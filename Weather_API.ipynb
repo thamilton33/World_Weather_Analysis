{
 "cells": [
  {
   "cell_type": "code",
   "execution_count": 1,
   "id": "5f2d8f98",
   "metadata": {},
   "outputs": [],
   "source": [
    "# Import the dependencies.\n",
    "import pandas as pd\n",
    "import matplotlib.pyplot as plt\n",
    "import numpy as np\n",
    "\n",
    "# Import the requests library.\n",
    "import requests\n",
    "\n",
    "# Import the API key.\n",
    "from config import weather_api_key\n",
    "\n",
    "# Import the time library and the datetime module from the datetime library \n",
    "import time\n",
    "from datetime import datetime"
   ]
  },
  {
   "cell_type": "code",
   "execution_count": 2,
   "id": "d49c3a5c",
   "metadata": {},
   "outputs": [
    {
     "name": "stdout",
     "output_type": "stream",
     "text": [
      "http://api.openweathermap.org/data/2.5/weather?units=Imperial&APPID=bac866e91dd1f3ad11f3a7d3111f9b43\n"
     ]
    }
   ],
   "source": [
    "# Starting URL for Weather Map API Call.\n",
    "url = \"http://api.openweathermap.org/data/2.5/weather?units=Imperial&APPID=\" + weather_api_key\n",
    "print(url)"
   ]
  },
  {
   "cell_type": "code",
   "execution_count": 3,
   "id": "f41e025f",
   "metadata": {},
   "outputs": [],
   "source": [
    "# Create a set of random latitude and longitude combinations.\n",
    "lats = np.random.uniform(low=-90.000, high=90.000, size =20)\n",
    "lngs = np.random.uniform(low=-180.000, high=180.000, size=20)\n",
    "lat_lngs = zip(lats, lngs)\n",
    "#lat_lngs"
   ]
  },
  {
   "cell_type": "code",
   "execution_count": 4,
   "id": "a475fa2a",
   "metadata": {},
   "outputs": [],
   "source": [
    "# Add the latitudes and longitudes to a list.\n",
    "coordinates = list(lat_lngs)\n"
   ]
  },
  {
   "cell_type": "code",
   "execution_count": 5,
   "id": "ff28cc13",
   "metadata": {},
   "outputs": [],
   "source": [
    "# Use the citipy module to determine city based on latitude and longitude.\n",
    "from citipy import citipy"
   ]
  },
  {
   "cell_type": "code",
   "execution_count": 6,
   "id": "450c471f",
   "metadata": {},
   "outputs": [],
   "source": [
    "#for coordinate in coordinates:\n",
    " #   print(citipy.nearest_city(coordinate[0], coordinate[1]).city_name,\n",
    "  #        citipy.nearest_city(coordinate[0], coordinate[1]).country_code)\n"
   ]
  },
  {
   "cell_type": "code",
   "execution_count": 7,
   "id": "c86a468e",
   "metadata": {},
   "outputs": [
    {
     "data": {
      "text/plain": [
       "18"
      ]
     },
     "execution_count": 7,
     "metadata": {},
     "output_type": "execute_result"
    }
   ],
   "source": [
    "# Create a list for holding the cities.\n",
    "cities = []\n",
    "# Identify the nearest city for each latitude and longitude combination.\n",
    "for coordinate in coordinates:\n",
    "    city = citipy.nearest_city(coordinate[0], coordinate[1]).city_name\n",
    "\n",
    "    # If the city is unique, then we will add it to the cities list.\n",
    "    if city not in cities:\n",
    "        cities.append(city)\n",
    "# Print the city count to confirm sufficient count.\n",
    "len(cities)"
   ]
  },
  {
   "cell_type": "code",
   "execution_count": 8,
   "id": "64eb270c",
   "metadata": {},
   "outputs": [
    {
     "name": "stdout",
     "output_type": "stream",
     "text": [
      "Beginning Data Retrieval     \n",
      "-----------------------------\n",
      "Processing Record 1 of Set 1 | barentsburg\n",
      "City not found. Skipping...\n",
      "Processing Record 2 of Set 1 | kapaa\n",
      "Processing Record 3 of Set 1 | inuvik\n",
      "Processing Record 4 of Set 1 | asfi\n",
      "Processing Record 5 of Set 1 | busselton\n",
      "Processing Record 6 of Set 1 | albany\n",
      "Processing Record 7 of Set 1 | mataura\n",
      "Processing Record 8 of Set 1 | rudnogorsk\n",
      "Processing Record 9 of Set 1 | samandag\n",
      "Processing Record 10 of Set 1 | ushuaia\n",
      "Processing Record 11 of Set 1 | ahipara\n",
      "Processing Record 12 of Set 1 | cheuskiny\n",
      "City not found. Skipping...\n",
      "Processing Record 13 of Set 1 | pisco\n",
      "Processing Record 14 of Set 1 | chumikan\n",
      "Processing Record 15 of Set 1 | butaritari\n",
      "Processing Record 16 of Set 1 | kashi\n",
      "Processing Record 17 of Set 1 | khatanga\n",
      "Processing Record 18 of Set 1 | rio gallegos\n",
      "-----------------------------\n",
      "Data Retrieval Complete      \n",
      "-----------------------------\n"
     ]
    }
   ],
   "source": [
    "# Create an empty list to hold the weather data.\n",
    "city_data = []\n",
    "#Print the beginning of the logging.\n",
    "print(\"Beginning Data Retrieval     \")\n",
    "print(\"-----------------------------\")\n",
    "\n",
    "# Create counters.\n",
    "record_count = 1\n",
    "set_count = 1\n",
    "\n",
    "# Loop through all the cities in the list.\n",
    "for i, city in enumerate(cities):\n",
    "\n",
    "    # Group cities in sets of 50 for logging purposes.\n",
    "    if (i % 50 == 0 and i >= 50):\n",
    "        set_count += 1\n",
    "        record_count = 1\n",
    "        time.sleep(60)\n",
    "\n",
    "    # Create endpoint URL with each city.\n",
    "    city_url = url + \"&q=\" + city.replace(\" \",\"+\")\n",
    "\n",
    "    # Log the URL, record, and set numbers and the city.\n",
    "    print(f\"Processing Record {record_count} of Set {set_count} | {city}\")\n",
    "    # Add 1 to the record count.\n",
    "    record_count += 1\n",
    "\n",
    "# Run an API request for each of the cities.\n",
    "    try:\n",
    "        # Parse the JSON and retrieve data.\n",
    "        city_weather = requests.get(city_url).json()\n",
    "        # Parse out the needed data.\n",
    "        city_lat = city_weather[\"coord\"][\"lat\"]\n",
    "        city_lng = city_weather[\"coord\"][\"lon\"]\n",
    "        city_max_temp = city_weather[\"main\"][\"temp_max\"]\n",
    "        city_humidity = city_weather[\"main\"][\"humidity\"]\n",
    "        city_clouds = city_weather[\"clouds\"][\"all\"]\n",
    "        city_wind = city_weather[\"wind\"][\"speed\"]\n",
    "        city_country = city_weather[\"sys\"][\"country\"]\n",
    "        # Convert the date to ISO standard.\n",
    "        city_date = datetime.utcfromtimestamp(city_weather[\"dt\"]).strftime('%Y-%m-%d %H:%M:%S')\n",
    "        # Append the city information into city_data list.\n",
    "        city_data.append({\"City\": city.title(),\n",
    "                          \"Lat\": city_lat,\n",
    "                          \"Lng\": city_lng,\n",
    "                          \"Max Temp\": city_max_temp,\n",
    "                          \"Humidity\": city_humidity,\n",
    "                          \"Cloudiness\": city_clouds,\n",
    "                          \"Wind Speed\": city_wind,\n",
    "                          \"Country\": city_country,\n",
    "                          \"Date\": city_date})\n",
    "\n",
    "# If an error is experienced, skip the city.\n",
    "    except:\n",
    "        print(\"City not found. Skipping...\")\n",
    "        pass\n",
    "\n",
    "# Indicate that Data Loading is complete.\n",
    "print(\"-----------------------------\")\n",
    "print(\"Data Retrieval Complete      \")\n",
    "print(\"-----------------------------\")"
   ]
  },
  {
   "cell_type": "code",
   "execution_count": null,
   "id": "837c50da",
   "metadata": {},
   "outputs": [],
   "source": []
  },
  {
   "cell_type": "code",
   "execution_count": 9,
   "id": "9d6e5de4",
   "metadata": {},
   "outputs": [
    {
     "name": "stdout",
     "output_type": "stream",
     "text": [
      "16\n"
     ]
    },
    {
     "data": {
      "text/html": [
       "<div>\n",
       "<style scoped>\n",
       "    .dataframe tbody tr th:only-of-type {\n",
       "        vertical-align: middle;\n",
       "    }\n",
       "\n",
       "    .dataframe tbody tr th {\n",
       "        vertical-align: top;\n",
       "    }\n",
       "\n",
       "    .dataframe thead th {\n",
       "        text-align: right;\n",
       "    }\n",
       "</style>\n",
       "<table border=\"1\" class=\"dataframe\">\n",
       "  <thead>\n",
       "    <tr style=\"text-align: right;\">\n",
       "      <th></th>\n",
       "      <th>City</th>\n",
       "      <th>Lat</th>\n",
       "      <th>Lng</th>\n",
       "      <th>Max Temp</th>\n",
       "      <th>Humidity</th>\n",
       "      <th>Cloudiness</th>\n",
       "      <th>Wind Speed</th>\n",
       "      <th>Country</th>\n",
       "      <th>Date</th>\n",
       "    </tr>\n",
       "  </thead>\n",
       "  <tbody>\n",
       "    <tr>\n",
       "      <th>0</th>\n",
       "      <td>Kapaa</td>\n",
       "      <td>22.0752</td>\n",
       "      <td>-159.3190</td>\n",
       "      <td>80.58</td>\n",
       "      <td>86</td>\n",
       "      <td>100</td>\n",
       "      <td>16.11</td>\n",
       "      <td>US</td>\n",
       "      <td>2022-04-23 19:05:49</td>\n",
       "    </tr>\n",
       "    <tr>\n",
       "      <th>1</th>\n",
       "      <td>Inuvik</td>\n",
       "      <td>68.3499</td>\n",
       "      <td>-133.7218</td>\n",
       "      <td>28.40</td>\n",
       "      <td>89</td>\n",
       "      <td>40</td>\n",
       "      <td>13.56</td>\n",
       "      <td>CA</td>\n",
       "      <td>2022-04-23 19:08:07</td>\n",
       "    </tr>\n",
       "    <tr>\n",
       "      <th>2</th>\n",
       "      <td>Asfi</td>\n",
       "      <td>32.2994</td>\n",
       "      <td>-9.2372</td>\n",
       "      <td>61.36</td>\n",
       "      <td>64</td>\n",
       "      <td>100</td>\n",
       "      <td>10.11</td>\n",
       "      <td>MA</td>\n",
       "      <td>2022-04-23 19:06:39</td>\n",
       "    </tr>\n",
       "    <tr>\n",
       "      <th>3</th>\n",
       "      <td>Busselton</td>\n",
       "      <td>-33.6500</td>\n",
       "      <td>115.3333</td>\n",
       "      <td>58.23</td>\n",
       "      <td>75</td>\n",
       "      <td>1</td>\n",
       "      <td>11.14</td>\n",
       "      <td>AU</td>\n",
       "      <td>2022-04-23 19:08:07</td>\n",
       "    </tr>\n",
       "    <tr>\n",
       "      <th>4</th>\n",
       "      <td>Albany</td>\n",
       "      <td>42.6001</td>\n",
       "      <td>-73.9662</td>\n",
       "      <td>58.95</td>\n",
       "      <td>31</td>\n",
       "      <td>100</td>\n",
       "      <td>1.01</td>\n",
       "      <td>US</td>\n",
       "      <td>2022-04-23 19:06:27</td>\n",
       "    </tr>\n",
       "    <tr>\n",
       "      <th>5</th>\n",
       "      <td>Mataura</td>\n",
       "      <td>-46.1927</td>\n",
       "      <td>168.8643</td>\n",
       "      <td>51.48</td>\n",
       "      <td>97</td>\n",
       "      <td>100</td>\n",
       "      <td>7.85</td>\n",
       "      <td>NZ</td>\n",
       "      <td>2022-04-23 19:05:53</td>\n",
       "    </tr>\n",
       "    <tr>\n",
       "      <th>6</th>\n",
       "      <td>Rudnogorsk</td>\n",
       "      <td>57.2639</td>\n",
       "      <td>103.7519</td>\n",
       "      <td>20.44</td>\n",
       "      <td>90</td>\n",
       "      <td>100</td>\n",
       "      <td>6.26</td>\n",
       "      <td>RU</td>\n",
       "      <td>2022-04-23 19:08:08</td>\n",
       "    </tr>\n",
       "    <tr>\n",
       "      <th>7</th>\n",
       "      <td>Samandag</td>\n",
       "      <td>36.0842</td>\n",
       "      <td>35.9771</td>\n",
       "      <td>75.72</td>\n",
       "      <td>29</td>\n",
       "      <td>1</td>\n",
       "      <td>9.15</td>\n",
       "      <td>TR</td>\n",
       "      <td>2022-04-23 19:08:08</td>\n",
       "    </tr>\n",
       "    <tr>\n",
       "      <th>8</th>\n",
       "      <td>Ushuaia</td>\n",
       "      <td>-54.8000</td>\n",
       "      <td>-68.3000</td>\n",
       "      <td>46.06</td>\n",
       "      <td>66</td>\n",
       "      <td>75</td>\n",
       "      <td>3.44</td>\n",
       "      <td>AR</td>\n",
       "      <td>2022-04-23 19:08:05</td>\n",
       "    </tr>\n",
       "    <tr>\n",
       "      <th>9</th>\n",
       "      <td>Ahipara</td>\n",
       "      <td>-35.1667</td>\n",
       "      <td>173.1667</td>\n",
       "      <td>62.91</td>\n",
       "      <td>65</td>\n",
       "      <td>82</td>\n",
       "      <td>14.27</td>\n",
       "      <td>NZ</td>\n",
       "      <td>2022-04-23 19:08:09</td>\n",
       "    </tr>\n",
       "  </tbody>\n",
       "</table>\n",
       "</div>"
      ],
      "text/plain": [
       "         City      Lat       Lng  Max Temp  Humidity  Cloudiness  Wind Speed  \\\n",
       "0       Kapaa  22.0752 -159.3190     80.58        86         100       16.11   \n",
       "1      Inuvik  68.3499 -133.7218     28.40        89          40       13.56   \n",
       "2        Asfi  32.2994   -9.2372     61.36        64         100       10.11   \n",
       "3   Busselton -33.6500  115.3333     58.23        75           1       11.14   \n",
       "4      Albany  42.6001  -73.9662     58.95        31         100        1.01   \n",
       "5     Mataura -46.1927  168.8643     51.48        97         100        7.85   \n",
       "6  Rudnogorsk  57.2639  103.7519     20.44        90         100        6.26   \n",
       "7    Samandag  36.0842   35.9771     75.72        29           1        9.15   \n",
       "8     Ushuaia -54.8000  -68.3000     46.06        66          75        3.44   \n",
       "9     Ahipara -35.1667  173.1667     62.91        65          82       14.27   \n",
       "\n",
       "  Country                 Date  \n",
       "0      US  2022-04-23 19:05:49  \n",
       "1      CA  2022-04-23 19:08:07  \n",
       "2      MA  2022-04-23 19:06:39  \n",
       "3      AU  2022-04-23 19:08:07  \n",
       "4      US  2022-04-23 19:06:27  \n",
       "5      NZ  2022-04-23 19:05:53  \n",
       "6      RU  2022-04-23 19:08:08  \n",
       "7      TR  2022-04-23 19:08:08  \n",
       "8      AR  2022-04-23 19:08:05  \n",
       "9      NZ  2022-04-23 19:08:09  "
      ]
     },
     "execution_count": 9,
     "metadata": {},
     "output_type": "execute_result"
    }
   ],
   "source": [
    "print(len(city_data))\n",
    "# Convert the array of dictionaries to a Pandas DataFrame.\n",
    "city_data_df = pd.DataFrame(city_data)\n",
    "city_data_df.head(10)"
   ]
  },
  {
   "cell_type": "code",
   "execution_count": 10,
   "id": "3a7da46f",
   "metadata": {},
   "outputs": [],
   "source": [
    "new_column_order = [\"City\",\"Country\",\"Date\",\"Lat\",\"Lng\",\"Max Temp\", \"Humidity\", \"Cloudiness\", \"Wind Speed\"]\n",
    "city_data_df = city_data_df[new_column_order]"
   ]
  },
  {
   "cell_type": "code",
   "execution_count": 11,
   "id": "1d463cf1",
   "metadata": {},
   "outputs": [],
   "source": [
    "# Create the output file (CSV).\n",
    "output_data_file = \"weather_data/cities.csv\"\n",
    "# Export the City_Data into a CSV.\n",
    "city_data_df.to_csv(output_data_file, index_label=\"City_ID\")"
   ]
  },
  {
   "cell_type": "code",
   "execution_count": 12,
   "id": "f558c86b",
   "metadata": {},
   "outputs": [],
   "source": [
    "# Extract relevant fields from the DataFrame for plotting.\n",
    "lats = city_data_df[\"Lat\"]\n",
    "max_temps = city_data_df[\"Max Temp\"]\n",
    "humidity = city_data_df[\"Humidity\"]\n",
    "cloudiness = city_data_df[\"Cloudiness\"]\n",
    "wind_speed = city_data_df[\"Wind Speed\"]"
   ]
  },
  {
   "cell_type": "code",
   "execution_count": 13,
   "id": "79219b43",
   "metadata": {},
   "outputs": [
    {
     "data": {
      "text/plain": [
       "1650740890.933337"
      ]
     },
     "execution_count": 13,
     "metadata": {},
     "output_type": "execute_result"
    }
   ],
   "source": [
    "# Import the time module.\n",
    "import time\n",
    "# Get today's date in seconds.\n",
    "today = time.time()\n",
    "today"
   ]
  },
  {
   "cell_type": "code",
   "execution_count": 14,
   "id": "a00e27b8",
   "metadata": {},
   "outputs": [
    {
     "data": {
      "image/png": "[encoded data removed]",
      "text/plain": [
       "<Figure size 432x288 with 1 Axes>"
      ]
     },
     "metadata": {
      "needs_background": "light"
     },
     "output_type": "display_data"
    }
   ],
   "source": [
    "# Import time module\n",
    "import time\n",
    "\n",
    "# Build the scatter plot for latitude vs. max temperature.\n",
    "plt.scatter(lats,\n",
    "            max_temps,\n",
    "            edgecolor=\"black\", linewidths=1, marker=\"o\",\n",
    "            alpha=0.8, label=\"Cities\")\n",
    "\n",
    "# Incorporate the other graph properties.\n",
    "plt.title(f\"City Latitude vs. Max Temperature \"+ time.strftime(\"%x\"))\n",
    "plt.ylabel(\"Max Temperature (F)\")\n",
    "plt.xlabel(\"Latitude\")\n",
    "plt.grid(True)\n",
    "\n",
    "# Save the figure.\n",
    "plt.savefig(\"weather_data/Fig1.png\")\n",
    "\n",
    "# Show plot.\n",
    "plt.show()"
   ]
  },
  {
   "cell_type": "code",
   "execution_count": 15,
   "id": "b0361307",
   "metadata": {},
   "outputs": [
    {
     "data": {
      "image/png": "[encoded data removed]",
      "text/plain": [
       "<Figure size 432x288 with 1 Axes>"
      ]
     },
     "metadata": {
      "needs_background": "light"
     },
     "output_type": "display_data"
    }
   ],
   "source": [
    "# Build the scatter plots for latitude vs. humidity.\n",
    "plt.scatter(lats,\n",
    "            humidity,\n",
    "            edgecolor=\"black\", linewidths=1, marker=\"o\",\n",
    "            alpha=0.8, label=\"Cities\")\n",
    "\n",
    "# Incorporate the other graph properties.\n",
    "plt.title(f\"City Latitude vs. Humidity \"+ time.strftime(\"%x\"))\n",
    "plt.ylabel(\"Humidity (%)\")\n",
    "plt.xlabel(\"Latitude\")\n",
    "plt.grid(True)\n",
    "# Save the figure.\n",
    "plt.savefig(\"weather_data/Fig2.png\")\n",
    "# Show plot.\n",
    "plt.show()"
   ]
  },
  {
   "cell_type": "code",
   "execution_count": 16,
   "id": "0b07d432",
   "metadata": {},
   "outputs": [
    {
     "data": {
      "image/png": "[encoded data removed]",
      "text/plain": [
       "<Figure size 432x288 with 1 Axes>"
      ]
     },
     "metadata": {
      "needs_background": "light"
     },
     "output_type": "display_data"
    }
   ],
   "source": [
    "# Build the scatter plots for latitude vs. cloudiness.\n",
    "plt.scatter(lats,\n",
    "            cloudiness,\n",
    "            edgecolor=\"black\", linewidths=1, marker=\"o\",\n",
    "            alpha=0.8, label=\"Cities\")\n",
    "\n",
    "# Incorporate the other graph properties.\n",
    "plt.title(f\"City Latitude vs. Cloudiness (%) \"+ time.strftime(\"%x\"))\n",
    "plt.ylabel(\"Cloudiness (%)\")\n",
    "plt.xlabel(\"Latitude\")\n",
    "plt.grid(True)\n",
    "# Save the figure.\n",
    "plt.savefig(\"weather_data/Fig3.png\")\n",
    "# Show plot.\n",
    "plt.show()"
   ]
  },
  {
   "cell_type": "code",
   "execution_count": 17,
   "id": "899431c3",
   "metadata": {},
   "outputs": [
    {
     "data": {
      "image/png": "[encoded data removed]",
      "text/plain": [
       "<Figure size 432x288 with 1 Axes>"
      ]
     },
     "metadata": {
      "needs_background": "light"
     },
     "output_type": "display_data"
    }
   ],
   "source": [
    "# Build the scatter plots for latitude vs. wind speed.\n",
    "plt.scatter(lats,\n",
    "            wind_speed,\n",
    "            edgecolor=\"black\", linewidths=1, marker=\"o\",\n",
    "            alpha=0.8, label=\"Cities\")\n",
    "\n",
    "# Incorporate the other graph properties.\n",
    "plt.title(f\"City Latitude vs. Wind Speed \"+ time.strftime(\"%x\"))\n",
    "plt.ylabel(\"Wind Speed (mph)\")\n",
    "plt.xlabel(\"Latitude\")\n",
    "plt.grid(True)\n",
    "# Save the figure.\n",
    "plt.savefig(\"weather_data/Fig4.png\")\n",
    "# Show plot.\n",
    "plt.show()"
   ]
  },
  {
   "cell_type": "code",
   "execution_count": 18,
   "id": "3d475541",
   "metadata": {},
   "outputs": [],
   "source": [
    "# Import linregress\n",
    "from scipy.stats import linregress\n",
    "\n",
    "# Create a function to create perform linear regression on the weather data\n",
    "# and plot a regression line and the equation with the data.\n",
    "def plot_linear_regression(x_values, y_values, title, y_label, text_coordinates):\n",
    "\n",
    "    # Run regression on hemisphere weather data.\n",
    "    (slope, intercept, r_value, p_value, std_err) = linregress(x_values, y_values)\n",
    "\n",
    "    # Calculate the regression line \"y values\" from the slope and intercept.\n",
    "    regress_values = x_values * slope + intercept\n",
    "    # Get the equation of the line.\n",
    "    line_eq = \"y = \" + str(round(slope,2)) + \"x + \" + str(round(intercept,2))\n",
    "    # Create a scatter plot and plot the regression line.\n",
    "    plt.scatter(x_values,y_values)\n",
    "    plt.plot(x_values,regress_values,\"r\")\n",
    "    # Annotate the text for the line equation.\n",
    "    plt.annotate(line_eq, text_coordinates, fontsize=15, color=\"red\")\n",
    "    plt.title(title)\n",
    "    plt.xlabel('Latitude')\n",
    "    plt.ylabel(y_label)\n",
    "    plt.show()"
   ]
  },
  {
   "cell_type": "code",
   "execution_count": 19,
   "id": "31e01312",
   "metadata": {},
   "outputs": [
    {
     "data": {
      "text/html": [
       "<div>\n",
       "<style scoped>\n",
       "    .dataframe tbody tr th:only-of-type {\n",
       "        vertical-align: middle;\n",
       "    }\n",
       "\n",
       "    .dataframe tbody tr th {\n",
       "        vertical-align: top;\n",
       "    }\n",
       "\n",
       "    .dataframe thead th {\n",
       "        text-align: right;\n",
       "    }\n",
       "</style>\n",
       "<table border=\"1\" class=\"dataframe\">\n",
       "  <thead>\n",
       "    <tr style=\"text-align: right;\">\n",
       "      <th></th>\n",
       "      <th>City</th>\n",
       "      <th>Country</th>\n",
       "      <th>Date</th>\n",
       "      <th>Lat</th>\n",
       "      <th>Lng</th>\n",
       "      <th>Max Temp</th>\n",
       "      <th>Humidity</th>\n",
       "      <th>Cloudiness</th>\n",
       "      <th>Wind Speed</th>\n",
       "    </tr>\n",
       "  </thead>\n",
       "  <tbody>\n",
       "    <tr>\n",
       "      <th>0</th>\n",
       "      <td>Kapaa</td>\n",
       "      <td>US</td>\n",
       "      <td>2022-04-23 19:05:49</td>\n",
       "      <td>22.0752</td>\n",
       "      <td>-159.3190</td>\n",
       "      <td>80.58</td>\n",
       "      <td>86</td>\n",
       "      <td>100</td>\n",
       "      <td>16.11</td>\n",
       "    </tr>\n",
       "    <tr>\n",
       "      <th>1</th>\n",
       "      <td>Inuvik</td>\n",
       "      <td>CA</td>\n",
       "      <td>2022-04-23 19:08:07</td>\n",
       "      <td>68.3499</td>\n",
       "      <td>-133.7218</td>\n",
       "      <td>28.40</td>\n",
       "      <td>89</td>\n",
       "      <td>40</td>\n",
       "      <td>13.56</td>\n",
       "    </tr>\n",
       "    <tr>\n",
       "      <th>2</th>\n",
       "      <td>Asfi</td>\n",
       "      <td>MA</td>\n",
       "      <td>2022-04-23 19:06:39</td>\n",
       "      <td>32.2994</td>\n",
       "      <td>-9.2372</td>\n",
       "      <td>61.36</td>\n",
       "      <td>64</td>\n",
       "      <td>100</td>\n",
       "      <td>10.11</td>\n",
       "    </tr>\n",
       "    <tr>\n",
       "      <th>4</th>\n",
       "      <td>Albany</td>\n",
       "      <td>US</td>\n",
       "      <td>2022-04-23 19:06:27</td>\n",
       "      <td>42.6001</td>\n",
       "      <td>-73.9662</td>\n",
       "      <td>58.95</td>\n",
       "      <td>31</td>\n",
       "      <td>100</td>\n",
       "      <td>1.01</td>\n",
       "    </tr>\n",
       "    <tr>\n",
       "      <th>6</th>\n",
       "      <td>Rudnogorsk</td>\n",
       "      <td>RU</td>\n",
       "      <td>2022-04-23 19:08:08</td>\n",
       "      <td>57.2639</td>\n",
       "      <td>103.7519</td>\n",
       "      <td>20.44</td>\n",
       "      <td>90</td>\n",
       "      <td>100</td>\n",
       "      <td>6.26</td>\n",
       "    </tr>\n",
       "  </tbody>\n",
       "</table>\n",
       "</div>"
      ],
      "text/plain": [
       "         City Country                 Date      Lat       Lng  Max Temp  \\\n",
       "0       Kapaa      US  2022-04-23 19:05:49  22.0752 -159.3190     80.58   \n",
       "1      Inuvik      CA  2022-04-23 19:08:07  68.3499 -133.7218     28.40   \n",
       "2        Asfi      MA  2022-04-23 19:06:39  32.2994   -9.2372     61.36   \n",
       "4      Albany      US  2022-04-23 19:06:27  42.6001  -73.9662     58.95   \n",
       "6  Rudnogorsk      RU  2022-04-23 19:08:08  57.2639  103.7519     20.44   \n",
       "\n",
       "   Humidity  Cloudiness  Wind Speed  \n",
       "0        86         100       16.11  \n",
       "1        89          40       13.56  \n",
       "2        64         100       10.11  \n",
       "4        31         100        1.01  \n",
       "6        90         100        6.26  "
      ]
     },
     "execution_count": 19,
     "metadata": {},
     "output_type": "execute_result"
    }
   ],
   "source": [
    "city_data_df.loc[(city_data_df[\"Lat\"] >= 0)].head()"
   ]
  },
  {
   "cell_type": "code",
   "execution_count": 20,
   "id": "16d1c908",
   "metadata": {},
   "outputs": [],
   "source": [
    "# Create Northern and Southern Hemisphere DataFrames.\n",
    "northern_hemi_df = city_data_df.loc[(city_data_df[\"Lat\"] >= 0)]\n",
    "southern_hemi_df = city_data_df.loc[(city_data_df[\"Lat\"] < 0)]"
   ]
  },
  {
   "cell_type": "code",
   "execution_count": 21,
   "id": "952a4f80",
   "metadata": {},
   "outputs": [
    {
     "data": {
      "image/png": "[encoded data removed]",
      "text/plain": [
       "<Figure size 432x288 with 1 Axes>"
      ]
     },
     "metadata": {
      "needs_background": "light"
     },
     "output_type": "display_data"
    }
   ],
   "source": [
    "# Linear regression on the Northern Hemisphere\n",
    "x_values = northern_hemi_df[\"Lat\"]\n",
    "y_values = northern_hemi_df[\"Max Temp\"]\n",
    "# Call the function.\n",
    "plot_linear_regression(x_values, y_values,\n",
    "                       'Linear Regression on the Northern Hemisphere \\\n",
    "                        for Maximum Temperature', 'Max Temp',(10,40))"
   ]
  },
  {
   "cell_type": "code",
   "execution_count": 22,
   "id": "8066648e",
   "metadata": {},
   "outputs": [
    {
     "data": {
      "image/png": "[encoded data removed]",
      "text/plain": [
       "<Figure size 432x288 with 1 Axes>"
      ]
     },
     "metadata": {
      "needs_background": "light"
     },
     "output_type": "display_data"
    }
   ],
   "source": [
    "# Linear regression on the Southern Hemisphere\n",
    "x_values = southern_hemi_df[\"Lat\"]\n",
    "y_values = southern_hemi_df[\"Humidity\"]\n",
    "# Call the function.\n",
    "plot_linear_regression(x_values, y_values,\n",
    "                       'Linear Regression on the Southern Hemisphere for % Humidity', '% Humidity',(-50, 15))"
   ]
  },
  {
   "cell_type": "code",
   "execution_count": 25,
   "id": "817cd2b7",
   "metadata": {},
   "outputs": [
    {
     "data": {
      "image/png": "[encoded data removed]",
      "text/plain": [
       "<Figure size 432x288 with 1 Axes>"
      ]
     },
     "metadata": {
      "needs_background": "light"
     },
     "output_type": "display_data"
    }
   ],
   "source": [
    "# Linear regression on the Southern Hemisphere\n",
    "x_values = northern_hemi_df[\"Lat\"]\n",
    "y_values = northern_hemi_df[\"Cloudiness\"]\n",
    "# Call the function.\n",
    "plot_linear_regression(x_values, y_values,\n",
    "                       'Linear Regression on the Northern Hemisphere for % Cloudiness', '% Cloudiness',(-50,15))"
   ]
  },
  {
   "cell_type": "code",
   "execution_count": 26,
   "id": "8768079e",
   "metadata": {},
   "outputs": [
    {
     "data": {
      "image/png": "[encoded data removed]",
      "text/plain": [
       "<Figure size 432x288 with 1 Axes>"
      ]
     },
     "metadata": {
      "needs_background": "light"
     },
     "output_type": "display_data"
    }
   ],
   "source": [
    "# Linear regression on the Southern Hemisphere\n",
    "x_values = southern_hemi_df[\"Lat\"]\n",
    "y_values = southern_hemi_df[\"Cloudiness\"]\n",
    "# Call the function.\n",
    "plot_linear_regression(x_values, y_values,\n",
    "                       'Linear Regression on the Southern Hemisphere for % Cloudiness', '% Cloudiness',(-50,60))"
   ]
  },
  {
   "cell_type": "code",
   "execution_count": 27,
   "id": "6e3a7e88",
   "metadata": {},
   "outputs": [
    {
     "data": {
      "image/png": "[encoded data removed]",
      "text/plain": [
       "<Figure size 432x288 with 1 Axes>"
      ]
     },
     "metadata": {
      "needs_background": "light"
     },
     "output_type": "display_data"
    }
   ],
   "source": [
    "# Linear regression on the Northern Hemisphere\n",
    "x_values = northern_hemi_df[\"Lat\"]\n",
    "y_values = northern_hemi_df[\"Wind Speed\"]\n",
    "# Call the function.\n",
    "plot_linear_regression(x_values, y_values,\n",
    "                       'Linear Regression on the Northern Hemisphere for Wind Speed', 'Wind Speed',(40,35))"
   ]
  },
  {
   "cell_type": "code",
   "execution_count": 28,
   "id": "fadf098f",
   "metadata": {},
   "outputs": [
    {
     "data": {
      "image/png": "[encoded data removed]",
      "text/plain": [
       "<Figure size 432x288 with 1 Axes>"
      ]
     },
     "metadata": {
      "needs_background": "light"
     },
     "output_type": "display_data"
    }
   ],
   "source": [
    "# Linear regression on the Southern Hemisphere\n",
    "x_values = southern_hemi_df[\"Lat\"]\n",
    "y_values = southern_hemi_df[\"Wind Speed\"]\n",
    "# Call the function.\n",
    "plot_linear_regression(x_values, y_values,\n",
    "                       'Linear Regression on the Southern Hemisphere for Wind Speed', 'Wind Speed',(-50,35))"
   ]
  },
  {
   "cell_type": "code",
   "execution_count": null,
   "id": "25221418",
   "metadata": {},
   "outputs": [],
   "source": []
  }
 ],
 "metadata": {
  "kernelspec": {
   "display_name": "Pythondata",
   "language": "python",
   "name": "pythondata"
  },
  "language_info": {
   "codemirror_mode": {
    "name": "ipython",
    "version": 3
   },
   "file_extension": ".py",
   "mimetype": "text/x-python",
   "name": "python",
   "nbconvert_exporter": "python",
   "pygments_lexer": "ipython3",
   "version": "3.9.7"
  }
 },
 "nbformat": 4,
 "nbformat_minor": 5
}
